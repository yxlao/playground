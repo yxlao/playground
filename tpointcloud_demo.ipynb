{
 "cells": [
  {
   "cell_type": "code",
   "execution_count": null,
   "metadata": {},
   "outputs": [],
   "source": [
    "import numpy as np\n",
    "import open3d as o3d\n",
    "import open3d.core as o3c"
   ]
  },
  {
   "cell_type": "code",
   "execution_count": null,
   "metadata": {},
   "outputs": [],
   "source": [
    "def create_o3d_pcd(d):\n",
    "    pass\n",
    "\n",
    "pcd = o3d.tgeometry.PointCloud(o3c.Dtype.Float32, o3c.Device(\"CPU:0\"))\n",
    "np_points = np.ones((5, 3), dtype=np.float32)\n",
    "t_points = o3c.Tensor(np_points) # Copied once\n",
    "tl_points = o3c.TensorList.from_tensor(t_points, inplace=False) # Copied twice\n",
    "pcd.point[\"points\"] = tl_points"
   ]
  },
  {
   "cell_type": "code",
   "execution_count": null,
   "metadata": {},
   "outputs": [],
   "source": [
    "# Modifying np_points doesn't affct point cloud\n",
    "print(\"before:\\n\", pcd.point[\"points\"].as_tensor())\n",
    "np_points[0][0] = 100\n",
    "print(\"after:\\n\", pcd.point[\"points\"].as_tensor())"
   ]
  },
  {
   "cell_type": "code",
   "execution_count": null,
   "metadata": {},
   "outputs": [],
   "source": [
    "# Inplace version\n",
    "np_points = np.ones((5, 3), dtype=np.float32)\n",
    "t_points = o3c.Tensor.from_numpy(np_points) # Inplace\n",
    "tl_points = o3c.TensorList.from_tensor(t_points, inplace=True) # Inplace\n",
    "pcd = o3d.tgeometry.PointCloud(o3c.Dtype.Float32, o3c.Device(\"CPU:0\"))\n",
    "pcd.point[\"points\"] = tl_points"
   ]
  },
  {
   "cell_type": "code",
   "execution_count": null,
   "metadata": {},
   "outputs": [],
   "source": [
    "# Modifying np_points changes the point cloud\n",
    "print(\"before:\\n\", pcd.point[\"points\"].as_tensor())\n",
    "np_points[0][0] = 100\n",
    "print(\"after:\\n\", pcd.point[\"points\"].as_tensor())"
   ]
  }
 ],
 "metadata": {
  "kernelspec": {
   "display_name": "Python 3",
   "language": "python",
   "name": "python3"
  },
  "language_info": {
   "codemirror_mode": {
    "name": "ipython",
    "version": 3
   },
   "file_extension": ".py",
   "mimetype": "text/x-python",
   "name": "python",
   "nbconvert_exporter": "python",
   "pygments_lexer": "ipython3",
   "version": "3.6.11"
  }
 },
 "nbformat": 4,
 "nbformat_minor": 4
}
