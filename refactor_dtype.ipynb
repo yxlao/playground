{
 "cells": [
  {
   "cell_type": "code",
   "execution_count": null,
   "metadata": {},
   "outputs": [],
   "source": [
    "from pathlib import Path"
   ]
  },
  {
   "cell_type": "code",
   "execution_count": null,
   "metadata": {},
   "outputs": [],
   "source": [
    "def process_line_rec(line):\n",
    "    replacement_map = dict()\n",
    "    replacement_map[\"core::DtypeUtil::ToString\"] = \".ToString()\"\n",
    "    replacement_map[\"core::DtypeUtil::ByteSize\"] = \".ByteSize()\"\n",
    "    replacement_map[\"DtypeUtil::ToString\"] = \".ToString()\"\n",
    "    replacement_map[\"DtypeUtil::ByteSize\"] = \".ByteSize()\"\n",
    "    for pattern, new_func in replacement_map.items():\n",
    "        if pattern in line:\n",
    "            print(f\"{pattern} found in {line}\")\n",
    "            start_idx = line.find(pattern)\n",
    "            start_idx += len(pattern)\n",
    "            if line[start_idx] != \"(\":\n",
    "                continue\n",
    "            parentheses_count = 0\n",
    "            end_idx = start_idx\n",
    "            for i in range(start_idx, len(line), 1):\n",
    "                if line[i] == \"(\":\n",
    "                    parentheses_count += 1\n",
    "                elif line[i] == \")\":\n",
    "                    parentheses_count -= 1\n",
    "                if parentheses_count == 0:\n",
    "                    end_idx = i\n",
    "                    break\n",
    "            if end_idx == start_idx:\n",
    "                raise RuntimeError(f\"Wrong end_idx: {line}\")\n",
    "            line = line[:start_idx - len(pattern)] + line[\n",
    "                start_idx + 1:end_idx] + new_func + line[end_idx + 1:]\n",
    "        \n",
    "    return line\n",
    "        \n",
    "def process_line(line):\n",
    "    new_line = process_line_rec(line)\n",
    "    while new_line != line:\n",
    "        line = new_line\n",
    "        new_line = process_line_rec(line)\n",
    "    return new_line"
   ]
  },
  {
   "cell_type": "code",
   "execution_count": null,
   "metadata": {},
   "outputs": [],
   "source": [
    "paths = list(Path(\"/home/yixing/repo/Open3D/cpp\").rglob(\"*.h\"))\n",
    "paths.extend(list(Path(\"/home/yixing/repo/Open3D/cpp\").rglob(\"*.cpp\")))\n",
    "paths.extend(list(Path(\"/home/yixing/repo/Open3D/cpp\").rglob(\"*.cu\")))\n",
    "for path in paths:\n",
    "    with open(path, \"r\") as f:\n",
    "        lines = f.readlines()\n",
    "    lines = [process_line(line) for line in lines]\n",
    "    with open(path, \"w\") as f:\n",
    "        for line in lines:\n",
    "            f.write(line)"
   ]
  }
 ],
 "metadata": {
  "kernelspec": {
   "display_name": "Python 3",
   "language": "python",
   "name": "python3"
  },
  "language_info": {
   "codemirror_mode": {
    "name": "ipython",
    "version": 3
   },
   "file_extension": ".py",
   "mimetype": "text/x-python",
   "name": "python",
   "nbconvert_exporter": "python",
   "pygments_lexer": "ipython3",
   "version": "3.6.11"
  }
 },
 "nbformat": 4,
 "nbformat_minor": 4
}
