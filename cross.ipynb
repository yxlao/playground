{
 "cells": [
  {
   "cell_type": "code",
   "execution_count": 6,
   "metadata": {},
   "outputs": [],
   "source": [
    "import numpy as np\n",
    "import torch as th"
   ]
  },
  {
   "cell_type": "code",
   "execution_count": 7,
   "metadata": {},
   "outputs": [
    {
     "data": {
      "text/plain": [
       "array([-3,  6, -3])"
      ]
     },
     "execution_count": 7,
     "metadata": {},
     "output_type": "execute_result"
    }
   ],
   "source": [
    "x = np.array([1, 2, 3])\n",
    "y = np.array([4, 5, 6])\n",
    "np.cross(x, y)"
   ]
  },
  {
   "cell_type": "code",
   "execution_count": 8,
   "metadata": {},
   "outputs": [
    {
     "data": {
      "text/plain": [
       "array([[-3,  6, -3],\n",
       "       [-3,  6, -3],\n",
       "       [-3,  6, -3],\n",
       "       [-3,  6, -3]])"
      ]
     },
     "execution_count": 8,
     "metadata": {},
     "output_type": "execute_result"
    }
   ],
   "source": [
    "xs = np.array([[1, 2, 3],\n",
    "               [1, 2, 3],\n",
    "               [1, 2, 3],\n",
    "               [1, 2, 3]])\n",
    "ys = np.array([[4, 5, 6],\n",
    "               [4, 5, 6],\n",
    "               [4, 5, 6],\n",
    "               [4, 5, 6]])\n",
    "np.cross(xs, ys)"
   ]
  },
  {
   "cell_type": "code",
   "execution_count": 9,
   "metadata": {},
   "outputs": [],
   "source": [
    "def my_cross(xs, ys):\n",
    "    re = np.empty_like(xs)\n",
    "    re[:, 0] = xs[:, 1] * ys[:, 2] - xs[:, 2] * ys[:, 1]\n",
    "    re[:, 1] = xs[:, 2] * ys[:, 0] - xs[:, 0] * ys[:, 2]\n",
    "    re[:, 2] = xs[:, 0] * ys[:, 1] - xs[:, 1] * ys[:, 0]\n",
    "    return re"
   ]
  },
  {
   "cell_type": "code",
   "execution_count": 10,
   "metadata": {},
   "outputs": [
    {
     "data": {
      "text/plain": [
       "array([[-3,  6, -3],\n",
       "       [-3,  6, -3],\n",
       "       [-3,  6, -3],\n",
       "       [-3,  6, -3]])"
      ]
     },
     "execution_count": 10,
     "metadata": {},
     "output_type": "execute_result"
    }
   ],
   "source": [
    "my_cross(xs, ys)"
   ]
  },
  {
   "cell_type": "code",
   "execution_count": 12,
   "metadata": {},
   "outputs": [],
   "source": [
    "xs = np.array([[1, 2, 3],\n",
    "               [1, 2, 3],\n",
    "               [1, 2, 3],\n",
    "               [1, 2, 3]])\n",
    "ys = np.array([[4, 5, 6],\n",
    "               [4, 5, 6],\n",
    "               [4, 5, 6],\n",
    "               [4, 5, 6]])\n",
    "xs = th.Tensor(xs)\n",
    "ys = th.Tensor(ys)"
   ]
  },
  {
   "cell_type": "code",
   "execution_count": 14,
   "metadata": {},
   "outputs": [
    {
     "data": {
      "text/plain": [
       "tensor([[-3., -3., -3., -3.],\n",
       "        [ 6.,  6.,  6.,  6.],\n",
       "        [-3., -3., -3., -3.]])"
      ]
     },
     "execution_count": 14,
     "metadata": {},
     "output_type": "execute_result"
    }
   ],
   "source": [
    "th.cross(xs.T, ys.T)"
   ]
  },
  {
   "cell_type": "code",
   "execution_count": 15,
   "metadata": {},
   "outputs": [
    {
     "data": {
      "text/plain": [
       "tensor([[-3.,  6., -3.],\n",
       "        [-3.,  6., -3.],\n",
       "        [-3.,  6., -3.],\n",
       "        [-3.,  6., -3.]])"
      ]
     },
     "execution_count": 15,
     "metadata": {},
     "output_type": "execute_result"
    }
   ],
   "source": [
    "th.cross(xs, ys)"
   ]
  },
  {
   "cell_type": "code",
   "execution_count": 17,
   "metadata": {},
   "outputs": [
    {
     "data": {
      "text/plain": [
       "tensor([-3.,  6., -3.])"
      ]
     },
     "execution_count": 17,
     "metadata": {},
     "output_type": "execute_result"
    }
   ],
   "source": [
    "a = th.Tensor([1, 2, 3])\n",
    "b = th.Tensor([4, 5, 6])\n",
    "th.cross(a, b)"
   ]
  }
 ],
 "metadata": {
  "kernelspec": {
   "display_name": "Python 3",
   "language": "python",
   "name": "python3"
  },
  "language_info": {
   "codemirror_mode": {
    "name": "ipython",
    "version": 3
   },
   "file_extension": ".py",
   "mimetype": "text/x-python",
   "name": "python",
   "nbconvert_exporter": "python",
   "pygments_lexer": "ipython3",
   "version": "3.6.11"
  }
 },
 "nbformat": 4,
 "nbformat_minor": 4
}
