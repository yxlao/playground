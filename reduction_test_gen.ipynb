{
 "cells": [
  {
   "cell_type": "code",
   "execution_count": null,
   "metadata": {},
   "outputs": [],
   "source": [
    "import torch as th\n",
    "import numpy as np\n"
   ]
  },
  {
   "cell_type": "code",
   "execution_count": null,
   "metadata": {},
   "outputs": [],
   "source": [
    "a = th.ones((2, 3, 4))\n",
    "th.sum(a, (0))"
   ]
  },
  {
   "cell_type": "code",
   "execution_count": null,
   "metadata": {},
   "outputs": [],
   "source": [
    "a = np.ones((2, 3, 4))\n",
    "np.sum(a, (0))"
   ]
  },
  {
   "cell_type": "code",
   "execution_count": null,
   "metadata": {},
   "outputs": [],
   "source": [
    "shape = (268435466, 2)\n",
    "a = th.ones(shape).cuda().to(th.int64)\n",
    "\n",
    "print(\"// start reduction\")\n",
    "b = th.sum(a, 1, keepdim=True)\n",
    "print(\"// end reduction\")\n",
    "print(b.shape)\n",
    "print(b)"
   ]
  },
  {
   "cell_type": "code",
   "execution_count": null,
   "metadata": {},
   "outputs": [],
   "source": [
    "b = th.sum(a, 1, keepdim=True)\n",
    "print(b.shape)\n",
    "print(b)\n",
    "\n",
    "# [Before]\n",
    "# dim_to_split: 1\n",
    "# shape: (2 268435466)\n",
    "# [After]\n",
    "# this->shape: (2 134217733)\n",
    "# copy->shape: (2 134217733)\n",
    "# [Before]\n",
    "# dim_to_split: 1\n",
    "# shape: (2 134217733)\n",
    "# [After]\n",
    "# this->shape: (2 67108867)\n",
    "# copy->shape: (2 67108866)\n",
    "# [Before]\n",
    "# dim_to_split: 1\n",
    "# shape: (2 134217733)\n",
    "# [After]\n",
    "# this->shape: (2 67108867)\n",
    "# copy->shape: (2 67108866)\n",
    "\n",
    "# Open3D\n",
    "# [Before]\n",
    "# dim_to_split: 1\n",
    "# Shape: (2, 268435466)\n",
    "# [After]\n",
    "# this->shape: (2, 134217733)\n",
    "# copy->shape: (2, 134217733)\n",
    "# [Before]\n",
    "# dim_to_split: 1\n",
    "# Shape: (2, 134217733)\n",
    "# [After]\n",
    "# this->shape: (2, 67108867)\n",
    "# copy->shape: (2, 67108866)\n",
    "# [Before]\n",
    "# dim_to_split: 1\n",
    "# Shape: (2, 134217733)\n",
    "# [After]\n",
    "# this->shape: (2, 67108867)\n",
    "# copy->shape: (2, 67108866)"
   ]
  },
  {
   "cell_type": "code",
   "execution_count": null,
   "metadata": {},
   "outputs": [],
   "source": [
    "# shape = (100, 2)\n",
    "# a = th.ones(shape).cuda().to(th.int64)\n",
    "# b = th.sum(a, 1, keepdim=True)\n",
    "# print(b.shape)\n",
    "# print(b)"
   ]
  },
  {
   "cell_type": "code",
   "execution_count": null,
   "metadata": {},
   "outputs": [],
   "source": [
    "# shape = (2, 268435466)\n",
    "# a = th.ones(shape).cuda().to(th.int64)\n",
    "# b = th.sum(a, 1, keepdim=True)\n",
    "# print(b.shape)\n",
    "# print(b)\n",
    "# [Before]\n",
    "# dim_to_split: 1\n",
    "# this->ndim(): 2\n",
    "# shape: 268435466, 2\n",
    "# [After]\n",
    "# this->ndim(): 1\n",
    "# this->shape(): 268435466, 1\n",
    "# copy->ndim(): 1\n",
    "# copy->shape(): 268435466, 1"
   ]
  },
  {
   "cell_type": "code",
   "execution_count": null,
   "metadata": {},
   "outputs": [],
   "source": [
    "shape = (2, 268435466)\n",
    "a = th.ones(shape).cuda()\n",
    "b = th.sum(a, 0, keepdim=True)\n",
    "print(b.shape)\n",
    "print(b)\n",
    "# [Before]\n",
    "# dim_to_split: 0\n",
    "# this->ndim(): 2\n",
    "# shape: 2, 268435466\n",
    "# [After]\n",
    "# this->ndim(): 1\n",
    "# this->shape(): 268435466, 268435466\n",
    "# copy->ndim(): 1\n",
    "# copy->shape(): 268435466, 268435466"
   ]
  },
  {
   "cell_type": "code",
   "execution_count": null,
   "metadata": {},
   "outputs": [],
   "source": [
    "shape = (32767, 2)\n",
    "shape = (268435466, 2)\n",
    "a = th.ones(shape).cuda()\n",
    "\n",
    "b = th.sum(a, 0)\n",
    "print(b.shape)\n",
    "print(b)\n",
    "\n",
    "b = th.sum(a, 1)\n",
    "print(b.shape)\n",
    "print(b)"
   ]
  },
  {
   "cell_type": "code",
   "execution_count": null,
   "metadata": {},
   "outputs": [],
   "source": [
    "a = th.ones(shape)\n",
    "\n",
    "b = th.sum(a, 0)\n",
    "print(b.shape)\n",
    "print(b)\n",
    "\n",
    "b = th.sum(a, 1)\n",
    "print(b.shape)\n",
    "print(b)"
   ]
  },
  {
   "cell_type": "code",
   "execution_count": null,
   "metadata": {},
   "outputs": [],
   "source": [
    "a = np.ones(shape)\n",
    "\n",
    "b = np.sum(a, 0)\n",
    "print(b.shape)\n",
    "print(b)\n",
    "\n",
    "b = np.sum(a, 1)\n",
    "print(b.shape)\n",
    "print(b)"
   ]
  },
  {
   "cell_type": "code",
   "execution_count": null,
   "metadata": {},
   "outputs": [],
   "source": [
    "shape = (268435466, 2)\n",
    "a = th.ones(shape)\n",
    "\n",
    "b = th.sum(a, 0)\n",
    "print(b.shape)\n",
    "print(b)\n",
    "\n",
    "b = th.sum(a, 1)\n",
    "print(b.shape)\n",
    "print(b)"
   ]
  },
  {
   "cell_type": "code",
   "execution_count": null,
   "metadata": {},
   "outputs": [],
   "source": [
    "import numpy as np\n",
    "\n",
    "a = np.ones((2, 3))\n",
    "b = np.sum(a, (0))\n",
    "print(b.shape)"
   ]
  },
  {
   "cell_type": "code",
   "execution_count": null,
   "metadata": {},
   "outputs": [],
   "source": [
    "a = np.ones((2, 3, 1))\n",
    "b = np.zeros((3, 4))\n",
    "\n",
    "np.sum(a, axis=(0), out=b)\n",
    "print(b.shape)\n",
    "\n",
    "c = np.sum(a, axis=(0))\n",
    "print(c.shape)"
   ]
  },
  {
   "cell_type": "code",
   "execution_count": null,
   "metadata": {},
   "outputs": [],
   "source": [
    "import numpy as np\n",
    "\n",
    "def gen_reduce_test_code(np_op, o3d_op_name, keepdims=(False,)):\n",
    "\n",
    "    a = np.array([22, 23, 20, 9, 6, 14, 18, 13, 15, 3, 17, 0, 7, 21, 11, 1, 4, 2, 10, 19, 5, 8, 16, 12])\n",
    "    shape = (2, 3, 4)\n",
    "    a = a.reshape(shape)\n",
    "    dims = [(), (0,), (1,), (2,), (0, 1), (0, 2), (1, 2), (0, 1, 2)]\n",
    "\n",
    "    def list_to_str(l, is_float=True):\n",
    "        if is_float:\n",
    "            return \", \".join([str(v) + \".f\" for v in l])\n",
    "        else:\n",
    "            return \", \".join([str(v) for v in l])\n",
    "\n",
    "    src_str = list_to_str(a.flatten())\n",
    "    shape_str = list_to_str(shape, False)\n",
    "\n",
    "    for keepdim in keepdims:\n",
    "        print(f\"//////////////\")\n",
    "        print(f\"// [{o3d_op_name}, keepdim={keepdim}]\")\n",
    "        \n",
    "        print(\"Device device = GetParam();\")\n",
    "        print(f\"Tensor src(std::vector<float>({{{src_str}}}), {{{shape_str}}}, Dtype::Float32, device);\")\n",
    "        print(\"Tensor dst;\")\n",
    "        print(\"\")\n",
    "        for dim in dims:\n",
    "            b = np_op(a, axis=dim, keepdims=keepdim)\n",
    "            dim_str = list_to_str(dim, False)\n",
    "            reduced_shape_str = list_to_str(b.shape, False)\n",
    "            keepdim_str = \"true\" if keepdim else \"false\"\n",
    "            print(f\"dst = src.{o3d_op_name}({{{dim_str}}}, {keepdim_str});\")\n",
    "            print(f\"EXPECT_EQ(dst.GetShape(), SizeVector({{{reduced_shape_str}}}));\")\n",
    "            print(f\"EXPECT_EQ(dst.ToFlatVector<float>(), std::vector<float>({{{list_to_str(b.flatten())}}}));\")\n",
    "            print(\"\")\n",
    "        print(f\"//////////////\")\n",
    "            \n",
    "    print(\"\\n*****************************************************\\n\")"
   ]
  },
  {
   "cell_type": "code",
   "execution_count": null,
   "metadata": {},
   "outputs": [],
   "source": [
    "gen_reduce_test_code(np.sum, \"Sum\", keepdims=(True, False))"
   ]
  },
  {
   "cell_type": "code",
   "execution_count": null,
   "metadata": {},
   "outputs": [],
   "source": [
    "gen_reduce_test_code(np.prod, \"Prod\", keepdims=(False,))"
   ]
  },
  {
   "cell_type": "code",
   "execution_count": null,
   "metadata": {},
   "outputs": [],
   "source": [
    "gen_reduce_test_code(np.min, \"Min\", keepdims=(False,))"
   ]
  },
  {
   "cell_type": "code",
   "execution_count": null,
   "metadata": {},
   "outputs": [],
   "source": [
    "gen_reduce_test_code(np.max, \"Max\", keepdims=(False,))"
   ]
  },
  {
   "cell_type": "code",
   "execution_count": null,
   "metadata": {},
   "outputs": [],
   "source": [
    "import numpy as np\n",
    "\n",
    "def gen_arg_reduce_test_code(np_op, o3d_op_name):\n",
    "    a = np.array([22, 23, 20, 9, 6, 14, 18, 13, 15, 3, 17, 0, 7, 21, 11, 1, 4, 2, 10, 19, 5, 8, 16, 12])\n",
    "    shape = (2, 3, 4)\n",
    "    a = a.reshape(shape)\n",
    "    dims = [None, 0, 1, 2]\n",
    "\n",
    "    def list_to_str(l):\n",
    "        return \", \".join([str(v) for v in l])\n",
    "\n",
    "    src_str = list_to_str(a.flatten())\n",
    "    shape_str = list_to_str(shape)\n",
    "\n",
    "    print(f\"//////////////\")\n",
    "    print(f\"// [{o3d_op_name}]\")\n",
    "    print(\"Device device = GetParam();\")\n",
    "    print(f\"Tensor src(std::vector<float>({{{src_str}}}), {{{shape_str}}}, Dtype::Float32, device);\")\n",
    "    print(\"Tensor dst;\")\n",
    "    print(\"\")\n",
    "    for dim in dims:\n",
    "        b = np_op(a, axis=dim)\n",
    "        dim_str = \"0, 1, 2\" if dim is None else str(dim)\n",
    "        reduced_shape_str = list_to_str(b.shape)\n",
    "        print(f\"dst = src.{o3d_op_name}({{{dim_str}}});\")\n",
    "        print(f\"EXPECT_EQ(dst.GetShape(), SizeVector({{{reduced_shape_str}}}));\")\n",
    "        print(f\"EXPECT_EQ(dst.ToFlatVector<int64_t>(), std::vector<int64_t>({{{list_to_str(b.flatten())}}}));\")\n",
    "        print(\"\")\n",
    "    print(f\"//////////////\")\n",
    "    print(\"\\n*****************************************************\\n\")\n",
    "    \n",
    "gen_arg_reduce_test_code(np.argmin, \"ArgMin\")\n",
    "gen_arg_reduce_test_code(np.argmax, \"ArgMax\")"
   ]
  },
  {
   "cell_type": "code",
   "execution_count": null,
   "metadata": {},
   "outputs": [],
   "source": [
    "a = np.array([])\n",
    "np.argmin(a)"
   ]
  }
 ],
 "metadata": {
  "kernelspec": {
   "display_name": "Python 3",
   "language": "python",
   "name": "python3"
  },
  "language_info": {
   "codemirror_mode": {
    "name": "ipython",
    "version": 3
   },
   "file_extension": ".py",
   "mimetype": "text/x-python",
   "name": "python",
   "nbconvert_exporter": "python",
   "pygments_lexer": "ipython3",
   "version": "3.6.11"
  }
 },
 "nbformat": 4,
 "nbformat_minor": 2
}
