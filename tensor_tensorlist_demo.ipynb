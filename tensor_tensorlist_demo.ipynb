{
 "cells": [
  {
   "cell_type": "code",
   "execution_count": null,
   "metadata": {},
   "outputs": [],
   "source": [
    "import numpy as np\n",
    "import open3d as o3d\n",
    "import open3d.core as o3c"
   ]
  },
  {
   "cell_type": "code",
   "execution_count": null,
   "metadata": {},
   "outputs": [],
   "source": [
    "np_points = np.array([[10, 2, 30], [1, 20, 3]],dtype=np.int32)\n",
    "print(np_points.max(0))\n",
    "print(np_points.max(1))"
   ]
  },
  {
   "cell_type": "code",
   "execution_count": null,
   "metadata": {},
   "outputs": [],
   "source": [
    "def cast_to_py_tensor(pybind_tensor):\n",
    "    py_tensor = o3c.Tensor([])\n",
    "    py_tensor.shallow_copy_from(pybind_tensor)\n",
    "    return py_tensor"
   ]
  },
  {
   "cell_type": "code",
   "execution_count": null,
   "metadata": {},
   "outputs": [],
   "source": [
    "t_points = o3c.Tensor.from_numpy(np_points)\n",
    "tl_points = o3c.TensorList.from_tensor(t_points, inplace=True)\n",
    "\n",
    "tl_points_tensor = cast_to_py_tensor(tl_points.as_tensor())\n",
    "print(tl_points_tensor.max(0))\n",
    "print(tl_points_tensor.max(1))"
   ]
  },
  {
   "cell_type": "code",
   "execution_count": null,
   "metadata": {},
   "outputs": [],
   "source": [
    "# Verify that there's no memory copy.\n",
    "print(tl_points_tensor)\n",
    "np_points[0, 0] = 100\n",
    "print(tl_points_tensor)"
   ]
  },
  {
   "cell_type": "code",
   "execution_count": null,
   "metadata": {},
   "outputs": [],
   "source": [
    "colors = o3c.Tensor(\n",
    "    [[1, 0, 0],\n",
    "     [0, 1, 0],\n",
    "     [0, 0, 1],\n",
    "     [1, 1, 1]], dtype=o3c.Dtype.Float32)"
   ]
  },
  {
   "cell_type": "code",
   "execution_count": null,
   "metadata": {},
   "outputs": [],
   "source": [
    "labels = o3c.Tensor(\n",
    "    [0, 3, 3, 2, 1, 3], dtype=o3c.Dtype.Int64\n",
    ")"
   ]
  },
  {
   "cell_type": "code",
   "execution_count": null,
   "metadata": {},
   "outputs": [],
   "source": [
    "colors[labels]"
   ]
  },
  {
   "cell_type": "code",
   "execution_count": null,
   "metadata": {},
   "outputs": [],
   "source": []
  }
 ],
 "metadata": {
  "kernelspec": {
   "display_name": "Python 3",
   "language": "python",
   "name": "python3"
  },
  "language_info": {
   "codemirror_mode": {
    "name": "ipython",
    "version": 3
   },
   "file_extension": ".py",
   "mimetype": "text/x-python",
   "name": "python",
   "nbconvert_exporter": "python",
   "pygments_lexer": "ipython3",
   "version": "3.6.11"
  }
 },
 "nbformat": 4,
 "nbformat_minor": 4
}
