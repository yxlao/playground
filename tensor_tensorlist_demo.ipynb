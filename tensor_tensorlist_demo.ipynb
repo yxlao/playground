{
 "cells": [
  {
   "cell_type": "code",
   "execution_count": 1,
   "metadata": {},
   "outputs": [],
   "source": [
    "import numpy as np\n",
    "import open3d as o3d\n",
    "import open3d.core as o3c"
   ]
  },
  {
   "cell_type": "code",
   "execution_count": 2,
   "metadata": {},
   "outputs": [
    {
     "name": "stdout",
     "output_type": "stream",
     "text": [
      "[10. 20. 30.]\n",
      "[30. 20.]\n"
     ]
    }
   ],
   "source": [
    "np_points = np.array([[10, 2, 30], [1, 20, 3]],dtype=np.float32)\n",
    "print(np_points.max(0))\n",
    "print(np_points.max(1))"
   ]
  },
  {
   "cell_type": "code",
   "execution_count": 3,
   "metadata": {},
   "outputs": [],
   "source": [
    "def cast_to_py_tensor(pybind_tensor):\n",
    "    py_tensor = o3c.Tensor([])\n",
    "    py_tensor.shallow_copy_from(pybind_tensor)\n",
    "    return py_tensor"
   ]
  },
  {
   "cell_type": "code",
   "execution_count": 4,
   "metadata": {},
   "outputs": [
    {
     "name": "stdout",
     "output_type": "stream",
     "text": [
      "[10.0 20.0 30.0]\n",
      "Tensor[shape={3}, stride={1}, Float32, CPU:0, 0x56487459c040]\n",
      "[30.0 20.0]\n",
      "Tensor[shape={2}, stride={1}, Float32, CPU:0, 0x56487459c7b0]\n"
     ]
    }
   ],
   "source": [
    "t_points = o3c.Tensor.from_numpy(np_points)\n",
    "tl_points = o3c.TensorList.from_tensor(t_points, inplace=True)\n",
    "\n",
    "tl_points_tensor = cast_to_py_tensor(tl_points.as_tensor())\n",
    "print(tl_points_tensor.max(0))\n",
    "print(tl_points_tensor.max(1))"
   ]
  },
  {
   "cell_type": "code",
   "execution_count": 5,
   "metadata": {},
   "outputs": [
    {
     "name": "stdout",
     "output_type": "stream",
     "text": [
      "[[10.0 2.0 30.0],\n",
      " [1.0 20.0 3.0]]\n",
      "Tensor[shape={2, 3}, stride={3, 1}, Float32, CPU:0, 0x5648744bc550]\n",
      "[[100.0 2.0 30.0],\n",
      " [1.0 20.0 3.0]]\n",
      "Tensor[shape={2, 3}, stride={3, 1}, Float32, CPU:0, 0x5648744bc550]\n"
     ]
    }
   ],
   "source": [
    "# Verify that there's no memory copy.\n",
    "print(tl_points_tensor)\n",
    "np_points[0, 0] = 100\n",
    "print(tl_points_tensor)"
   ]
  }
 ],
 "metadata": {
  "kernelspec": {
   "display_name": "Python 3",
   "language": "python",
   "name": "python3"
  },
  "language_info": {
   "codemirror_mode": {
    "name": "ipython",
    "version": 3
   },
   "file_extension": ".py",
   "mimetype": "text/x-python",
   "name": "python",
   "nbconvert_exporter": "python",
   "pygments_lexer": "ipython3",
   "version": "3.6.11"
  }
 },
 "nbformat": 4,
 "nbformat_minor": 4
}
