{
 "cells": [
  {
   "cell_type": "code",
   "execution_count": null,
   "metadata": {},
   "outputs": [],
   "source": [
    "import numpy as np\n",
    "\n",
    "points = np.random.uniform(low=0.0, high=10, size=(100, 3))\n",
    "\n",
    "min_bound = 0\n",
    "max_bound = 10\n",
    "voxel_size = 2\n",
    "\n",
    "voxel_indices = ((points - min_bound) / voxel_size).astype(int)"
   ]
  },
  {
   "cell_type": "code",
   "execution_count": null,
   "metadata": {},
   "outputs": [],
   "source": [
    "import open3d as o3d\n",
    "print(o3d.__version__)\n",
    "\n",
    "pcd = o3d.io.read_point_cloud(\"/home/yixing/repo/Open3D/examples/TestData/fragment.pcd\")\n",
    "\n",
    "labels = np.random.randint(10, size=(len(pcd.points),))\n",
    "\n",
    "voxel_size = 0.1\n",
    "min_bound = pcd.get_min_bound() - voxel_size * 0.5\n",
    "max_bound = pcd.get_max_bound() + voxel_size * 0.5\n",
    "print(voxel_size, min_bound, max_bound)"
   ]
  },
  {
   "cell_type": "code",
   "execution_count": null,
   "metadata": {},
   "outputs": [],
   "source": [
    "# Sample points (color/normal will be the average)\n",
    "sparse_pcd, _, original_indices = pcd.voxel_down_sample_and_trace(\n",
    "    voxel_size, min_bound, max_bound, False\n",
    ")\n",
    "\n",
    "# Sample labels\n",
    "sparse_labels = []\n",
    "for original_index in original_indices:\n",
    "    cell_labels = labels[np.asarray(original_index)]\n",
    "    sparse_labels.append(np.bincount(cell_labels).argmax())\n",
    "    \n",
    "print(len(pcd.points))\n",
    "print(len(labels))\n",
    "print(len(sparse_pcd.points))\n",
    "print(len(sparse_labels))"
   ]
  },
  {
   "cell_type": "code",
   "execution_count": null,
   "metadata": {},
   "outputs": [],
   "source": [
    "import open3d as o3d\n",
    "print(o3d.__version__)\n",
    "\n",
    "pcd = o3d.io.read_point_cloud(\"/home/yixing/repo/Open3D/examples/TestData/fragment.pcd\")\n",
    "labels = np.random.randint(10, size=(len(pcd.points),))\n",
    "\n",
    "voxel_size = 0.1\n",
    "min_bound = pcd.get_min_bound() - voxel_size * 0.5\n",
    "max_bound = pcd.get_max_bound() + voxel_size * 0.5\n",
    "print(voxel_size, min_bound, max_bound)"
   ]
  },
  {
   "cell_type": "code",
   "execution_count": null,
   "metadata": {},
   "outputs": [],
   "source": [
    "points = np.asarray(pcd.points)\n",
    "voxels = ((points - min_bound) / voxel_size).astype(int)\n",
    "voxels_unique, = np.unique(voxel_indices, \n",
    "                                 axis=0, \n",
    "                                 return_index=True, \n",
    "                                 return_inverse=True, \n",
    "                                 return_counts=True)"
   ]
  }
 ],
 "metadata": {
  "kernelspec": {
   "display_name": "Python 3",
   "language": "python",
   "name": "python3"
  },
  "language_info": {
   "codemirror_mode": {
    "name": "ipython",
    "version": 3
   },
   "file_extension": ".py",
   "mimetype": "text/x-python",
   "name": "python",
   "nbconvert_exporter": "python",
   "pygments_lexer": "ipython3",
   "version": "3.6.11"
  }
 },
 "nbformat": 4,
 "nbformat_minor": 4
}
